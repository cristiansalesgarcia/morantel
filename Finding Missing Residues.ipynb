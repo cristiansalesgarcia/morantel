{
 "cells": [
  {
   "cell_type": "code",
   "execution_count": null,
   "metadata": {},
   "outputs": [],
   "source": [
    "from Bio.PDB import PDBParser, parse_pdb_header\n",
    "import pandas as pd\n",
    "\n",
    "parser = PDBParser(PERMISSIVE = 1)\n",
    "structure_id = \"6cnj\"\n",
    "filename = \"6cnj.pdb\"\n",
    "\n",
    "structure = parser.get_structure(structure_id,filename)\n",
    "\n",
    "missing_residues = structure.header[\"missing_residues\"]\n",
    "df = pd.DataFrame(missing_residues)\n",
    "df.to_csv('missing_residues.csv', index = False)"
   ]
  }
 ],
 "metadata": {
  "kernelspec": {
   "display_name": "Python 3",
   "language": "python",
   "name": "python3"
  },
  "language_info": {
   "codemirror_mode": {
    "name": "ipython",
    "version": 3
   },
   "file_extension": ".py",
   "mimetype": "text/x-python",
   "name": "python",
   "nbconvert_exporter": "python",
   "pygments_lexer": "ipython3",
   "version": "3.7.3"
  }
 },
 "nbformat": 4,
 "nbformat_minor": 2
}
