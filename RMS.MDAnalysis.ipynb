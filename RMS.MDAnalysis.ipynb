{
 "cells": [
  {
   "cell_type": "code",
   "execution_count": null,
   "metadata": {},
   "outputs": [],
   "source": [
    "import MDAnalysis as mda\n",
    "import pandas as pd\n",
    "import matplotlib.pyplot as plt\n",
    "%matplotlib inline\n",
    "from MDAnalysis.analysis import align, rms"
   ]
  },
  {
   "cell_type": "code",
   "execution_count": null,
   "metadata": {},
   "outputs": [],
   "source": [
    "PDB = \"6cnj_prl20.pdb\" #create a variable PDB for your structure file\n",
    "XTC = \"6cnj_prl20_25ns.xtc\" #create a variable XTC for your trajectory file"
   ]
  },
  {
   "cell_type": "code",
   "execution_count": null,
   "metadata": {},
   "outputs": [],
   "source": [
    "u = mda.Universe(PDB, XTC) #variable u compiling both structure and trajectory into one\n",
    "\n",
    "print(u)\n",
    "print(len(u.trajectory)) #just showing the size of your trajectory (kinda useless tbh)"
   ]
  },
  {
   "cell_type": "code",
   "execution_count": null,
   "metadata": {},
   "outputs": [],
   "source": [
    "mobile = mda.Universe(PDB, XTC) #you are defining a variable as mobile just like the one you have for u\n",
    "ref = mda.Universe(PDB, XTC) #same thing here"
   ]
  },
  {
   "cell_type": "code",
   "execution_count": null,
   "metadata": {},
   "outputs": [],
   "source": [
    "mobile.trajectory[-1] #setting the mobile trajectory into one frame, your last one\n",
    "ref.trajectory[0] #setting the reference trajectory as the first frame\n",
    "\n",
    "mobile_ca = mobile.select_atoms('name CA')  #create a variable in which you select the alpha carbons\n",
    "                                            #from the last frame (same terminology as used to select in VMD)\n",
    "    \n",
    "ref_ca = ref.select_atoms('name CA') #same thing for reference\n",
    "rms.rmsd(mobile_ca.positions, ref_ca.positions, superposition = False) #run an RMSD with the \"non treated\" frames"
   ]
  },
  {
   "cell_type": "code",
   "execution_count": null,
   "metadata": {},
   "outputs": [],
   "source": [
    "aligner = align.AlignTraj(mobile, ref, select='protein and name CA', in_memory=True).run() #because you are not guaranteed\n",
    "                                                                                           #that the trajectory frames are\n",
    "                                                                                           #aligned, you may be getting some\n",
    "                                                                                           #overall movement of the protein in\n",
    "                                                                                           #solution. So, you align them."
   ]
  },
  {
   "cell_type": "code",
   "execution_count": null,
   "metadata": {},
   "outputs": [],
   "source": [
    "mobile.trajectory[-1] #then proceed to doing the same thing as before\n",
    "ref.trajectory[0]\n",
    "\n",
    "mobile_ca = mobile.select_atoms('backbone') #another way of looking at the overall movement of a protein is to call the backbone\n",
    "                                            #instead of the alpha carbons only. It shouldn't give you too much of a difference.\n",
    "ref_ca = ref.select_atoms('backbone')\n",
    "rms.rmsd(mobile_ca.positions, ref_ca.positions, superposition = False) #this RMSD should be smaller than the other one"
   ]
  },
  {
   "cell_type": "code",
   "execution_count": null,
   "metadata": {},
   "outputs": [],
   "source": [
    "#An interesting trend that you may want to analyze is the motion of specific parts of your protein--like the c-loop. For that,\n",
    "#you have to find out what are the atoms relevant for your c-loop and proceed with a somewhat similar structure as before.\n",
    "\n",
    "mobile.trajectory[-1] #unsure if you need this, but I add just in case--could take out and see if it changes anything...\n",
    "ref.trajectory[0]\n",
    "\n",
    "mobile_ca = mobile.select_atoms('backbone and segid PROA and resid 197-204') #sometimes PROA, PROB, PROC etc stands for subunit\n",
    "                                                                             #A,B,C etc. sometimes, it is only for part of it.\n",
    "                                                                             #Make sure in VMD or Chimera that you are looking \n",
    "                                                                             #at the movement you want to look at.\n",
    "ref_ca = ref.select_atoms('backbone and segid PROA and resid 197-204')\n",
    "rms.rmsd(mobile_ca.positions, ref_ca.positions, superposition = False)"
   ]
  },
  {
   "cell_type": "code",
   "execution_count": null,
   "metadata": {},
   "outputs": [],
   "source": [
    "mobile_ca = mobile.select_atoms('backbone and segid PROG and resid 197-204')\n",
    "ref_ca = ref.select_atoms('backbone and segid PROG and resid 197-204')\n",
    "rms.rmsd(mobile_ca.positions, ref_ca.positions, superposition = False)"
   ]
  },
  {
   "cell_type": "code",
   "execution_count": null,
   "metadata": {},
   "outputs": [],
   "source": [
    "mobile_ca = mobile.select_atoms('backbone and segid PROE and resid 190-196')\n",
    "ref_ca = ref.select_atoms('backbone and segid PROE and resid 190-196')\n",
    "rms.rmsd(mobile_ca.positions, ref_ca.positions, superposition = False)"
   ]
  },
  {
   "cell_type": "code",
   "execution_count": null,
   "metadata": {},
   "outputs": [],
   "source": [
    "#When plotting the data, you may want to decide on whether you will look at only the middle residue of your c-loop (which in\n",
    "#theory should move the most), or the whole c-loop. Depending on what you want, you will use one of these sets of possibilities.\n",
    "\n",
    "#C_loop_A = \"backbone and segid PROA and resid 197-204\"\n",
    "#C_loop_C = \"backbone and segid PROE and resid 190-196\"\n",
    "#C_loop_D = \"backbone and segid PROG and resid 197-204\"\n",
    "C_loop_A = \"backbone and segid PROA and resid 200\"\n",
    "C_loop_C = \"backbone and segid PROE and resid 193\"\n",
    "C_loop_D = \"backbone and segid PROG and resid 199\"\n",
    "\n",
    "R = rms.RMSD (mobile, ref, select='backbone',groupselections=[C_loop_A, C_loop_C, C_loop_D],ref_frame=0) #in variable R you are\n",
    "                                                                                                         #storing RMSD values\n",
    "                                                                                                         #of the backbone and\n",
    "                                                                                                         #each c-loop selection\n",
    "                                                                                                         #over time.\n",
    "\n",
    "R.run() #because it is now a variable, you run it like this"
   ]
  },
  {
   "cell_type": "code",
   "execution_count": null,
   "metadata": {},
   "outputs": [],
   "source": [
    "#To plot the R variable, you will envoke (or invoke idk) the commands dataframe from pandas (you may want to get yourself\n",
    "#comfortable with this documentation in case you want to change the colors or the line strokes etc.\n",
    "\n",
    "df = pd.DataFrame(R.rmsd, columns=['Frame', 'Time (ps)', 'Backbone','C_loop_A','C_loop_C','C_loop_D'])\n",
    "df"
   ]
  },
  {
   "cell_type": "code",
   "execution_count": null,
   "metadata": {},
   "outputs": [],
   "source": [
    "df['Time (ns)']=(df['Time (ps)']/1000)\n",
    "df"
   ]
  },
  {
   "cell_type": "code",
   "execution_count": null,
   "metadata": {},
   "outputs": [],
   "source": [
    "ax = df.plot(x='Time (ns)', \n",
    "             y=['C_loop_A','C_loop_C',\"Backbone\"],\n",
    "             label=['C-loop ' r'$\\alpha$/$\\beta$','C-loop ' r'$\\beta$/$\\alpha$',\"Backbone\"],\n",
    "             color=['#3FA039','#FF8837','blue'])\n",
    "\n",
    "ax.set_ylabel(r'RMSD ($\\AA$)')\n",
    "\n",
    "plt.savefig('6cnj_prl20_RMSD.png')"
   ]
  },
  {
   "cell_type": "markdown",
   "metadata": {},
   "source": [
    "RMSD Done"
   ]
  },
  {
   "cell_type": "code",
   "execution_count": null,
   "metadata": {},
   "outputs": [],
   "source": [
    "#Doing the RMSF plot is very similar to the RMSD one, with changes in the specific commands.\n",
    "\n",
    "c_alphas_A = mobile.select_atoms('protein and name CA and segid PROA')\n",
    "RfA = rms.RMSF(c_alphas_A).run()"
   ]
  },
  {
   "cell_type": "code",
   "execution_count": null,
   "metadata": {},
   "outputs": [],
   "source": [
    "#For some reason, I decided to use the library matplotlib to plot the RMSF. You may want to get used to this documentation\n",
    "#as well.\n",
    "\n",
    "\n",
    "plt.plot(c_alphas_A.resids, RfA.rmsf,color='#54529D')\n",
    "plt.xlabel('Residue number')\n",
    "plt.ylabel('RMSF ($\\AA$)')\n",
    "plt.axvspan(197, 204, zorder=0, alpha=0.2, color='orange', label='C-loop')\n",
    "plt.legend()\n",
    "\n",
    "plt.savefig('6cnj_prl20_RMSF_A.png')"
   ]
  },
  {
   "cell_type": "code",
   "execution_count": null,
   "metadata": {},
   "outputs": [],
   "source": [
    "c_alphas_E = mobile.select_atoms('protein and name CA and segid PROE')\n",
    "RfB = rms.RMSF(c_alphas_E).run()"
   ]
  },
  {
   "cell_type": "code",
   "execution_count": null,
   "metadata": {},
   "outputs": [],
   "source": [
    "plt.plot(c_alphas_E.resids, RfB.rmsf,color='#54529D')\n",
    "plt.xlabel('Residue number')\n",
    "plt.ylabel('RMSF ($\\AA$)')\n",
    "plt.axvspan(190, 196, zorder=0, alpha=0.2, color='orange', label='C-loop')\n",
    "plt.legend()\n",
    "\n",
    "plt.savefig('6cnj_prl20_RMSF_C.png')"
   ]
  },
  {
   "cell_type": "code",
   "execution_count": null,
   "metadata": {},
   "outputs": [],
   "source": [
    "c_alphas_G = mobile.select_atoms('protein and name CA and segid PROG')\n",
    "RfC = rms.RMSF(c_alphas_G).run()"
   ]
  },
  {
   "cell_type": "code",
   "execution_count": null,
   "metadata": {},
   "outputs": [],
   "source": [
    "plt.plot(c_alphas_G.resids, RfC.rmsf,color='#54529D')\n",
    "plt.xlabel('Residue number')\n",
    "plt.ylabel('RMSF ($\\AA$)')\n",
    "plt.axvspan(190, 196, zorder=0, alpha=0.2, color='orange', label='C-loop')\n",
    "plt.legend();"
   ]
  },
  {
   "cell_type": "markdown",
   "metadata": {},
   "source": [
    "RMSF Done!"
   ]
  }
 ],
 "metadata": {
  "kernelspec": {
   "display_name": "Python 3",
   "language": "python",
   "name": "python3"
  },
  "language_info": {
   "codemirror_mode": {
    "name": "ipython",
    "version": 3
   },
   "file_extension": ".py",
   "mimetype": "text/x-python",
   "name": "python",
   "nbconvert_exporter": "python",
   "pygments_lexer": "ipython3",
   "version": "3.7.3"
  }
 },
 "nbformat": 4,
 "nbformat_minor": 5
}
